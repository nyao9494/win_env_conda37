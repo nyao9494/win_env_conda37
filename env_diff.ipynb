{
 "cells": [
  {
   "cell_type": "code",
   "execution_count": 5,
   "metadata": {
    "ExecuteTime": {
     "end_time": "2020-09-06T12:59:15.035274Z",
     "start_time": "2020-09-06T12:59:14.780431Z"
    }
   },
   "outputs": [],
   "source": [
    "! explorer ."
   ]
  },
  {
   "cell_type": "code",
   "execution_count": 1,
   "metadata": {
    "ExecuteTime": {
     "end_time": "2020-09-06T13:00:18.403638Z",
     "start_time": "2020-09-06T13:00:17.689078Z"
    }
   },
   "outputs": [],
   "source": [
    "! code ."
   ]
  },
  {
   "cell_type": "code",
   "execution_count": 1,
   "metadata": {
    "ExecuteTime": {
     "end_time": "2020-09-06T13:00:05.656628Z",
     "start_time": "2020-09-06T13:00:04.779170Z"
    }
   },
   "outputs": [],
   "source": [
    "import env_copy\n",
    "self=env_copy.env_copy_anaconda()"
   ]
  },
  {
   "cell_type": "code",
   "execution_count": 2,
   "metadata": {
    "ExecuteTime": {
     "end_time": "2020-09-06T13:00:07.543650Z",
     "start_time": "2020-09-06T13:00:07.529659Z"
    }
   },
   "outputs": [
    {
     "data": {
      "text/plain": [
       "'C:\\\\Users\\\\M151325\\\\Anaconda37'"
      ]
     },
     "execution_count": 2,
     "metadata": {},
     "output_type": "execute_result"
    }
   ],
   "source": [
    "self.anaconda_dir"
   ]
  },
  {
   "cell_type": "code",
   "execution_count": 3,
   "metadata": {
    "ExecuteTime": {
     "end_time": "2020-09-06T13:01:09.848638Z",
     "start_time": "2020-09-06T13:00:57.957664Z"
    }
   },
   "outputs": [],
   "source": [
    "! conda list > list.txt"
   ]
  },
  {
   "cell_type": "markdown",
   "metadata": {},
   "source": [
    "## 差分のはじめを指定\n",
    "- file_env.csvをtemp.csvに名前を変える"
   ]
  },
  {
   "cell_type": "markdown",
   "metadata": {},
   "source": [
    "## 現在のファイルリストを取得"
   ]
  },
  {
   "cell_type": "code",
   "execution_count": null,
   "metadata": {
    "ExecuteTime": {
     "end_time": "2020-09-06T13:03:34.092507Z",
     "start_time": "2020-09-06T13:02:07.217859Z"
    }
   },
   "outputs": [],
   "source": [
    "self.get_list()"
   ]
  },
  {
   "cell_type": "markdown",
   "metadata": {},
   "source": [
    "## 差分を確認\n",
    "file_env.csvとtemp.csvの差分をとる"
   ]
  },
  {
   "cell_type": "code",
   "execution_count": 5,
   "metadata": {
    "ExecuteTime": {
     "end_time": "2020-09-06T13:03:40.702148Z",
     "start_time": "2020-09-06T13:03:38.261648Z"
    }
   },
   "outputs": [],
   "source": [
    "self.get_diff_list()"
   ]
  },
  {
   "cell_type": "markdown",
   "metadata": {},
   "source": [
    "## 差分の中で100Mごえを確認"
   ]
  },
  {
   "cell_type": "code",
   "execution_count": 6,
   "metadata": {
    "ExecuteTime": {
     "end_time": "2020-09-06T13:03:43.113082Z",
     "start_time": "2020-09-06T13:03:43.068111Z"
    }
   },
   "outputs": [
    {
     "data": {
      "text/html": [
       "<div>\n",
       "<style scoped>\n",
       "    .dataframe tbody tr th:only-of-type {\n",
       "        vertical-align: middle;\n",
       "    }\n",
       "\n",
       "    .dataframe tbody tr th {\n",
       "        vertical-align: top;\n",
       "    }\n",
       "\n",
       "    .dataframe thead th {\n",
       "        text-align: right;\n",
       "    }\n",
       "</style>\n",
       "<table border=\"1\" class=\"dataframe\">\n",
       "  <thead>\n",
       "    <tr style=\"text-align: right;\">\n",
       "      <th></th>\n",
       "      <th>path</th>\n",
       "      <th>hash</th>\n",
       "      <th>MB</th>\n",
       "      <th>folder</th>\n",
       "    </tr>\n",
       "  </thead>\n",
       "  <tbody>\n",
       "    <tr>\n",
       "      <th>65620</th>\n",
       "      <td>C:\\Users\\M151325\\anaconda37\\pkgs\\mkl-2020.2-256.conda</td>\n",
       "      <td>nasi</td>\n",
       "      <td>114.568268</td>\n",
       "      <td>C:\\Users\\M151325\\anaconda37\\pkgs</td>\n",
       "    </tr>\n",
       "    <tr>\n",
       "      <th>121112</th>\n",
       "      <td>C:\\Users\\M151325\\anaconda37\\pkgs\\pandoc-2.11-h9490d1a_0\\Scripts\\pandoc.exe</td>\n",
       "      <td>nasi</td>\n",
       "      <td>119.476224</td>\n",
       "      <td>C:\\Users\\M151325\\anaconda37\\pkgs\\pandoc-2.11-h9490d1a_0\\Scripts</td>\n",
       "    </tr>\n",
       "  </tbody>\n",
       "</table>\n",
       "</div>"
      ],
      "text/plain": [
       "                                                                              path  \\\n",
       "65620                        C:\\Users\\M151325\\anaconda37\\pkgs\\mkl-2020.2-256.conda   \n",
       "121112  C:\\Users\\M151325\\anaconda37\\pkgs\\pandoc-2.11-h9490d1a_0\\Scripts\\pandoc.exe   \n",
       "\n",
       "        hash          MB  \\\n",
       "65620   nasi  114.568268   \n",
       "121112  nasi  119.476224   \n",
       "\n",
       "                                                                 folder  \n",
       "65620                                  C:\\Users\\M151325\\anaconda37\\pkgs  \n",
       "121112  C:\\Users\\M151325\\anaconda37\\pkgs\\pandoc-2.11-h9490d1a_0\\Scripts  "
      ]
     },
     "execution_count": 6,
     "metadata": {},
     "output_type": "execute_result"
    }
   ],
   "source": [
    "self.diff_df[self.diff_df[\"MB\"]>99]"
   ]
  },
  {
   "cell_type": "code",
   "execution_count": 8,
   "metadata": {},
   "outputs": [],
   "source": [
    "import importlib"
   ]
  },
  {
   "cell_type": "code",
   "execution_count": 9,
   "metadata": {},
   "outputs": [
    {
     "data": {
      "text/plain": [
       "<module 'env_copy' from 'C:\\\\Users\\\\M151325\\\\000_work\\\\win_env_conda37\\\\env_copy.py'>"
      ]
     },
     "execution_count": 9,
     "metadata": {},
     "output_type": "execute_result"
    }
   ],
   "source": [
    "importlib.reload(env_copy)"
   ]
  },
  {
   "cell_type": "markdown",
   "metadata": {},
   "source": [
    "## diff分のファイルを生成"
   ]
  },
  {
   "cell_type": "code",
   "execution_count": null,
   "metadata": {
    "ExecuteTime": {
     "end_time": "2020-09-06T13:06:12.958775Z",
     "start_time": "2020-09-06T13:05:00.517475Z"
    },
    "scrolled": true
   },
   "outputs": [
    {
     "name": "stdout",
     "output_type": "stream",
     "text": [
      "C:\\Users\\M151325\\anaconda37\\msvcp140.dll.c~.conda_trash\n",
      "C:\\Users\\M151325\\anaconda37\\node.exe\n",
      "C:\\Users\\M151325\\anaconda37\\npm\n",
      "C:\\Users\\M151325\\anaconda37\\npm.cmd\n",
      "C:\\Users\\M151325\\anaconda37\\npx\n",
      "C:\\Users\\M151325\\anaconda37\\npx.cmd\n",
      "C:\\Users\\M151325\\anaconda37\\python.exe.c~.conda_trash\n",
      "C:\\Users\\M151325\\anaconda37\\python3.dll.c~.conda_trash\n",
      "C:\\Users\\M151325\\anaconda37\\python37.dll.c~.conda_trash\n",
      "C:\\Users\\M151325\\anaconda37\\vcruntime140.dll.c~.conda_trash\n",
      "C:\\Users\\M151325\\anaconda37\\xlwings32-0.20.7.dll\n",
      "C:\\Users\\M151325\\anaconda37\\xlwings64-0.20.7.dll\n",
      "C:\\Users\\M151325\\anaconda37\\bin\\libLIEF.dll\n",
      "C:\\Users\\M151325\\anaconda37\\conda-meta\\anaconda-custom-py37_1.json\n",
      "C:\\Users\\M151325\\anaconda37\\conda-meta\\argon2-cffi-20.1.0-py37he774522_1.json\n",
      "C:\\Users\\M151325\\anaconda37\\conda-meta\\asn1crypto-1.4.0-py_0.json\n",
      "C:\\Users\\M151325\\anaconda37\\conda-meta\\astroid-2.4.2-py37_0.json\n",
      "C:\\Users\\M151325\\anaconda37\\conda-meta\\astropy-4.0.2-py37he774522_0.json\n",
      "C:\\Users\\M151325\\anaconda37\\conda-meta\\async_generator-1.10-py37h28b3542_0.json\n",
      "C:\\Users\\M151325\\anaconda37\\conda-meta\\atomicwrites-1.4.0-py_0.json\n",
      "C:\\Users\\M151325\\anaconda37\\conda-meta\\attrs-20.2.0-py_0.json\n",
      "C:\\Users\\M151325\\anaconda37\\conda-meta\\autopep8-1.5.4-py_0.json\n",
      "C:\\Users\\M151325\\anaconda37\\conda-meta\\backcall-0.2.0-py_0.json\n",
      "C:\\Users\\M151325\\anaconda37\\conda-meta\\bcrypt-3.2.0-py37he774522_0.json\n",
      "C:\\Users\\M151325\\anaconda37\\conda-meta\\beautifulsoup4-4.9.3-pyhb0f4dca_0.json\n",
      "C:\\Users\\M151325\\anaconda37\\conda-meta\\bitarray-1.5.3-py37he774522_0.json\n",
      "C:\\Users\\M151325\\anaconda37\\conda-meta\\bleach-3.2.1-py_0.json\n",
      "C:\\Users\\M151325\\anaconda37\\conda-meta\\blosc-1.20.1-h7bd577a_0.json\n",
      "C:\\Users\\M151325\\anaconda37\\conda-meta\\bokeh-2.2.1-py37_0.json\n",
      "C:\\Users\\M151325\\anaconda37\\conda-meta\\bottleneck-1.3.2-py37h2a96729_1.json\n",
      "C:\\Users\\M151325\\anaconda37\\conda-meta\\brotlipy-0.7.0-py37he774522_1000.json\n",
      "C:\\Users\\M151325\\anaconda37\\conda-meta\\ca-certificates-2020.6.20-hecda079_0.json\n",
      "C:\\Users\\M151325\\anaconda37\\conda-meta\\certifi-2020.6.20-py37hf50a25e_2.json\n",
      "C:\\Users\\M151325\\anaconda37\\conda-meta\\cffi-1.14.3-py37h7a1dbc1_0.json\n",
      "C:\\Users\\M151325\\anaconda37\\conda-meta\\click-7.1.2-py_0.json\n",
      "C:\\Users\\M151325\\anaconda37\\conda-meta\\cloudpickle-1.6.0-py_0.json\n",
      "C:\\Users\\M151325\\anaconda37\\conda-meta\\comtypes-1.1.7-py37_1001.json\n",
      "C:\\Users\\M151325\\anaconda37\\conda-meta\\conda-4.8.5-py37hf50a25e_2.json\n",
      "C:\\Users\\M151325\\anaconda37\\conda-meta\\conda-build-3.20.3-py37_0.json\n",
      "C:\\Users\\M151325\\anaconda37\\conda-meta\\conda-package-handling-1.6.1-py37h62dcd97_0.json\n",
      "C:\\Users\\M151325\\anaconda37\\conda-meta\\cryptography-3.1.1-py37h7a1dbc1_0.json\n",
      "C:\\Users\\M151325\\anaconda37\\conda-meta\\curl-7.71.1-h2a8f88b_1.json\n",
      "C:\\Users\\M151325\\anaconda37\\conda-meta\\cython-0.29.21-py37ha925a31_0.json\n",
      "C:\\Users\\M151325\\anaconda37\\conda-meta\\cytoolz-0.11.0-py37he774522_0.json\n",
      "C:\\Users\\M151325\\anaconda37\\conda-meta\\dask-2.30.0-py_0.json\n",
      "C:\\Users\\M151325\\anaconda37\\conda-meta\\dask-core-2.30.0-py_0.json\n",
      "C:\\Users\\M151325\\anaconda37\\conda-meta\\decorator-4.4.2-py_0.json\n",
      "C:\\Users\\M151325\\anaconda37\\conda-meta\\diff-match-patch-20200713-py_0.json\n",
      "C:\\Users\\M151325\\anaconda37\\conda-meta\\distributed-2.30.0-py37_0.json\n",
      "C:\\Users\\M151325\\anaconda37\\conda-meta\\docutils-0.16-py37_1.json\n",
      "C:\\Users\\M151325\\anaconda37\\conda-meta\\et_xmlfile-1.0.1-py_1001.json\n",
      "C:\\Users\\M151325\\anaconda37\\conda-meta\\flake8-3.8.4-py_0.json\n",
      "C:\\Users\\M151325\\anaconda37\\conda-meta\\flask-1.1.2-py_0.json\n",
      "C:\\Users\\M151325\\anaconda37\\conda-meta\\freetype-2.10.3-hd328e21_0.json\n",
      "C:\\Users\\M151325\\anaconda37\\conda-meta\\fsspec-0.8.3-py_0.json\n",
      "C:\\Users\\M151325\\anaconda37\\conda-meta\\future-0.18.2-py37_1.json\n",
      "C:\\Users\\M151325\\anaconda37\\conda-meta\\gevent-20.9.0-py37he774522_0.json\n",
      "C:\\Users\\M151325\\anaconda37\\conda-meta\\gmpy2-2.0.8-py37h0964b28_3.json\n",
      "C:\\Users\\M151325\\anaconda37\\conda-meta\\greenlet-0.4.17-py37he774522_0.json\n",
      "C:\\Users\\M151325\\anaconda37\\conda-meta\\html5lib-1.1-py_0.json\n",
      "C:\\Users\\M151325\\anaconda37\\conda-meta\\icu-58.2-ha925a31_3.json\n",
      "C:\\Users\\M151325\\anaconda37\\conda-meta\\idna-2.10-py_0.json\n",
      "C:\\Users\\M151325\\anaconda37\\conda-meta\\imageio-2.9.0-py_0.json\n",
      "C:\\Users\\M151325\\anaconda37\\conda-meta\\importlib-metadata-2.0.0-py_1.json\n",
      "C:\\Users\\M151325\\anaconda37\\conda-meta\\importlib_metadata-2.0.0-1.json\n",
      "C:\\Users\\M151325\\anaconda37\\conda-meta\\iniconfig-1.0.1-py_0.json\n",
      "C:\\Users\\M151325\\anaconda37\\conda-meta\\intel-openmp-2020.2-254.json\n",
      "C:\\Users\\M151325\\anaconda37\\conda-meta\\intervaltree-3.1.0-py_0.json\n",
      "C:\\Users\\M151325\\anaconda37\\conda-meta\\ipykernel-5.3.4-py37h5ca1d4c_0.json\n",
      "C:\\Users\\M151325\\anaconda37\\conda-meta\\ipython-7.18.1-py37h5ca1d4c_0.json\n",
      "C:\\Users\\M151325\\anaconda37\\conda-meta\\ipywidgets-7.5.1-py_1.json\n",
      "C:\\Users\\M151325\\anaconda37\\conda-meta\\isort-5.6.4-py_0.json\n",
      "C:\\Users\\M151325\\anaconda37\\conda-meta\\jinja2-2.11.2-py_0.json\n",
      "C:\\Users\\M151325\\anaconda37\\conda-meta\\joblib-0.17.0-py_0.json\n",
      "C:\\Users\\M151325\\anaconda37\\conda-meta\\json5-0.9.5-py_0.json\n",
      "C:\\Users\\M151325\\anaconda37\\conda-meta\\jsonschema-3.2.0-py_2.json\n",
      "C:\\Users\\M151325\\anaconda37\\conda-meta\\jupyterlab-2.2.6-py_0.json\n",
      "C:\\Users\\M151325\\anaconda37\\conda-meta\\jupyterlab_pygments-0.1.2-py_0.json\n",
      "C:\\Users\\M151325\\anaconda37\\conda-meta\\jupyterlab_server-1.2.0-py_0.json\n",
      "C:\\Users\\M151325\\anaconda37\\conda-meta\\jupyter_client-6.1.7-py_0.json\n",
      "C:\\Users\\M151325\\anaconda37\\conda-meta\\jupyter_console-6.2.0-py_0.json\n",
      "C:\\Users\\M151325\\anaconda37\\conda-meta\\jupyter_contrib_core-0.3.3-py_2.json\n",
      "C:\\Users\\M151325\\anaconda37\\conda-meta\\jupyter_contrib_nbextensions-0.5.1-py37_0.json\n",
      "C:\\Users\\M151325\\anaconda37\\conda-meta\\jupyter_core-4.6.3-py37_0.json\n",
      "C:\\Users\\M151325\\anaconda37\\conda-meta\\jupyter_highlight_selected_word-0.2.0-py37_1000.json\n",
      "C:\\Users\\M151325\\anaconda37\\conda-meta\\jupyter_latex_envs-1.4.4-py37_1000.json\n",
      "C:\\Users\\M151325\\anaconda37\\conda-meta\\jupyter_nbextensions_configurator-0.4.1-py37hc8dfbb8_1.json\n",
      "C:\\Users\\M151325\\anaconda37\\conda-meta\\keyring-21.4.0-py37_1.json\n",
      "C:\\Users\\M151325\\anaconda37\\conda-meta\\kiwisolver-1.2.0-py37h74a9793_0.json\n",
      "C:\\Users\\M151325\\anaconda37\\conda-meta\\krb5-1.18.2-hc04afaa_0.json\n",
      "C:\\Users\\M151325\\anaconda37\\conda-meta\\libarchive-3.4.2-h5e25573_0.json\n",
      "C:\\Users\\M151325\\anaconda37\\conda-meta\\libcurl-7.71.1-h2a8f88b_1.json\n",
      "C:\\Users\\M151325\\anaconda37\\conda-meta\\liblief-0.10.1-ha925a31_0.json\n",
      "C:\\Users\\M151325\\anaconda37\\conda-meta\\libllvm9-9.0.1-h21ff451_0.json\n",
      "C:\\Users\\M151325\\anaconda37\\conda-meta\\libsodium-1.0.18-h62dcd97_0.json\n",
      "C:\\Users\\M151325\\anaconda37\\conda-meta\\libssh2-1.9.0-h7a1dbc1_1.json\n",
      "C:\\Users\\M151325\\anaconda37\\conda-meta\\libtiff-4.1.0-h56a325e_1.json\n",
      "C:\\Users\\M151325\\anaconda37\\conda-meta\\libxml2-2.9.10-h464c3ec_1.json\n",
      "C:\\Users\\M151325\\anaconda37\\conda-meta\\libxslt-1.1.34-he774522_0.json\n",
      "C:\\Users\\M151325\\anaconda37\\conda-meta\\llvmlite-0.34.0-py37h1a82afc_4.json\n",
      "C:\\Users\\M151325\\anaconda37\\conda-meta\\lxml-4.5.2-py37h1350720_0.json\n",
      "C:\\Users\\M151325\\anaconda37\\conda-meta\\lz4-c-1.9.2-hf4a77e7_3.json\n",
      "C:\\Users\\M151325\\anaconda37\\conda-meta\\lzo-2.10-he774522_2.json\n",
      "C:\\Users\\M151325\\anaconda37\\conda-meta\\markupsafe-1.1.1-py37hfa6e2cd_1.json\n",
      "C:\\Users\\M151325\\anaconda37\\conda-meta\\matplotlib-3.3.1-0.json\n",
      "C:\\Users\\M151325\\anaconda37\\conda-meta\\matplotlib-base-3.3.1-py37hba9282a_0.json\n",
      "C:\\Users\\M151325\\anaconda37\\conda-meta\\menuinst-1.4.16-py37he774522_1.json\n",
      "C:\\Users\\M151325\\anaconda37\\conda-meta\\mistune-0.8.4-py37hfa6e2cd_1001.json\n",
      "C:\\Users\\M151325\\anaconda37\\conda-meta\\mkl-2020.2-256.json\n",
      "C:\\Users\\M151325\\anaconda37\\conda-meta\\mkl_fft-1.2.0-py37h45dec08_0.json\n",
      "C:\\Users\\M151325\\anaconda37\\conda-meta\\mkl_random-1.1.1-py37h47e9c7a_0.json\n",
      "C:\\Users\\M151325\\anaconda37\\conda-meta\\mock-4.0.2-py_0.json\n",
      "C:\\Users\\M151325\\anaconda37\\conda-meta\\more-itertools-8.5.0-py_0.json\n",
      "C:\\Users\\M151325\\anaconda37\\conda-meta\\mpc-1.1.0-h7edee0f_1.json\n",
      "C:\\Users\\M151325\\anaconda37\\conda-meta\\mpfr-4.0.2-h62dcd97_1.json\n",
      "C:\\Users\\M151325\\anaconda37\\conda-meta\\mpir-3.0.0-hec2e145_1.json\n",
      "C:\\Users\\M151325\\anaconda37\\conda-meta\\msgpack-python-1.0.0-py37h74a9793_1.json\n",
      "C:\\Users\\M151325\\anaconda37\\conda-meta\\nbclient-0.5.0-py_0.json\n",
      "C:\\Users\\M151325\\anaconda37\\conda-meta\\nbconvert-6.0.7-py37_0.json\n",
      "C:\\Users\\M151325\\anaconda37\\conda-meta\\nbformat-5.0.7-py_0.json\n",
      "C:\\Users\\M151325\\anaconda37\\conda-meta\\nest-asyncio-1.4.1-py_0.json\n",
      "C:\\Users\\M151325\\anaconda37\\conda-meta\\networkx-2.5-py_0.json\n",
      "C:\\Users\\M151325\\anaconda37\\conda-meta\\nltk-3.5-py_0.json\n",
      "C:\\Users\\M151325\\anaconda37\\conda-meta\\nodejs-14.13.1-0.json\n",
      "C:\\Users\\M151325\\anaconda37\\conda-meta\\nose-1.3.7-py37_1004.json\n",
      "C:\\Users\\M151325\\anaconda37\\conda-meta\\notebook-6.1.4-py37_0.json\n",
      "C:\\Users\\M151325\\anaconda37\\conda-meta\\numba-0.51.2-py37hf9181ef_1.json\n",
      "C:\\Users\\M151325\\anaconda37\\conda-meta\\numpy-1.19.1-py37h5510c5b_0.json\n",
      "C:\\Users\\M151325\\anaconda37\\conda-meta\\numpy-base-1.19.1-py37ha3acd2a_0.json\n",
      "C:\\Users\\M151325\\anaconda37\\conda-meta\\numpydoc-1.1.0-py_0.json\n",
      "C:\\Users\\M151325\\anaconda37\\conda-meta\\openpyxl-3.0.5-py_0.json\n",
      "C:\\Users\\M151325\\anaconda37\\conda-meta\\openssl-1.1.1h-he774522_0.json\n",
      "C:\\Users\\M151325\\anaconda37\\conda-meta\\packaging-20.4-py_0.json\n",
      "C:\\Users\\M151325\\anaconda37\\conda-meta\\pandas-1.1.3-py37ha925a31_0.json\n",
      "C:\\Users\\M151325\\anaconda37\\conda-meta\\pandoc-2.11-h9490d1a_0.json\n",
      "C:\\Users\\M151325\\anaconda37\\conda-meta\\paramiko-2.7.2-py_0.json\n",
      "C:\\Users\\M151325\\anaconda37\\conda-meta\\path-15.0.0-py37_0.json\n",
      "C:\\Users\\M151325\\anaconda37\\conda-meta\\path.py-12.5.0-0.json\n",
      "C:\\Users\\M151325\\anaconda37\\conda-meta\\pathlib2-2.3.5-py37_1.json\n",
      "C:\\Users\\M151325\\anaconda37\\conda-meta\\pexpect-4.8.0-py37_1.json\n",
      "C:\\Users\\M151325\\anaconda37\\conda-meta\\pickleshare-0.7.5-py37_1001.json\n",
      "C:\\Users\\M151325\\anaconda37\\conda-meta\\pillow-7.2.0-py37hcc1f983_0.json\n",
      "C:\\Users\\M151325\\anaconda37\\conda-meta\\pip-20.2.3-py37_0.json\n",
      "C:\\Users\\M151325\\anaconda37\\conda-meta\\prometheus_client-0.8.0-py_0.json\n",
      "C:\\Users\\M151325\\anaconda37\\conda-meta\\prompt-toolkit-3.0.8-py_0.json\n",
      "C:\\Users\\M151325\\anaconda37\\conda-meta\\prompt_toolkit-3.0.8-0.json\n",
      "C:\\Users\\M151325\\anaconda37\\conda-meta\\psutil-5.7.2-py37he774522_0.json\n",
      "C:\\Users\\M151325\\anaconda37\\conda-meta\\py-1.9.0-py_0.json\n",
      "C:\\Users\\M151325\\anaconda37\\conda-meta\\py-lief-0.10.1-py37ha925a31_0.json\n",
      "C:\\Users\\M151325\\anaconda37\\conda-meta\\pycodestyle-2.6.0-py_0.json\n",
      "C:\\Users\\M151325\\anaconda37\\conda-meta\\pycparser-2.20-py_2.json\n",
      "C:\\Users\\M151325\\anaconda37\\conda-meta\\pycrypto-2.6.1-py37he774522_10.json\n",
      "C:\\Users\\M151325\\anaconda37\\conda-meta\\pycurl-7.43.0.6-py37h7a1dbc1_0.json\n",
      "C:\\Users\\M151325\\anaconda37\\conda-meta\\pydocstyle-5.1.1-py_0.json\n",
      "C:\\Users\\M151325\\anaconda37\\conda-meta\\pyflakes-2.2.0-py_0.json\n",
      "C:\\Users\\M151325\\anaconda37\\conda-meta\\pygments-2.7.1-py_0.json\n",
      "C:\\Users\\M151325\\anaconda37\\conda-meta\\pylint-2.6.0-py37_0.json\n",
      "C:\\Users\\M151325\\anaconda37\\conda-meta\\pynacl-1.4.0-py37h62dcd97_1.json\n",
      "C:\\Users\\M151325\\anaconda37\\conda-meta\\pyopenssl-19.1.0-py_1.json\n",
      "C:\\Users\\M151325\\anaconda37\\conda-meta\\pyparsing-2.4.7-py_0.json\n",
      "C:\\Users\\M151325\\anaconda37\\conda-meta\\pyrsistent-0.17.3-py37he774522_0.json\n",
      "C:\\Users\\M151325\\anaconda37\\conda-meta\\pysocks-1.7.1-py37_1.json\n",
      "C:\\Users\\M151325\\anaconda37\\conda-meta\\pytest-6.1.1-py37_0.json\n",
      "C:\\Users\\M151325\\anaconda37\\conda-meta\\python-3.7.9-h60c2a47_0.json\n",
      "C:\\Users\\M151325\\anaconda37\\conda-meta\\python-jsonrpc-server-0.4.0-py_0.json\n",
      "C:\\Users\\M151325\\anaconda37\\conda-meta\\python-libarchive-c-2.9-py_0.json\n",
      "C:\\Users\\M151325\\anaconda37\\conda-meta\\python_abi-3.7-1_cp37m.json\n",
      "C:\\Users\\M151325\\anaconda37\\conda-meta\\pytz-2020.1-py_0.json\n",
      "C:\\Users\\M151325\\anaconda37\\conda-meta\\pywavelets-1.1.1-py37he774522_2.json\n",
      "C:\\Users\\M151325\\anaconda37\\conda-meta\\pywin32-ctypes-0.2.0-py37_1001.json\n",
      "C:\\Users\\M151325\\anaconda37\\conda-meta\\pyyaml-5.3.1-py37he774522_1.json\n",
      "C:\\Users\\M151325\\anaconda37\\conda-meta\\pyzmq-19.0.2-py37ha925a31_1.json\n",
      "C:\\Users\\M151325\\anaconda37\\conda-meta\\qdarkstyle-2.8.1-py_0.json\n",
      "C:\\Users\\M151325\\anaconda37\\conda-meta\\qtawesome-1.0.1-py_0.json\n",
      "C:\\Users\\M151325\\anaconda37\\conda-meta\\qtconsole-4.7.7-py_0.json\n",
      "C:\\Users\\M151325\\anaconda37\\conda-meta\\regex-2020.10.11-py37he774522_0.json\n",
      "C:\\Users\\M151325\\anaconda37\\conda-meta\\requests-2.24.0-py_0.json\n",
      "C:\\Users\\M151325\\anaconda37\\conda-meta\\rope-0.18.0-py_0.json\n",
      "C:\\Users\\M151325\\anaconda37\\conda-meta\\rtree-0.9.4-py37h21ff451_1.json\n",
      "C:\\Users\\M151325\\anaconda37\\conda-meta\\ruamel_yaml-0.15.87-py37he774522_1.json\n",
      "C:\\Users\\M151325\\anaconda37\\conda-meta\\scikit-learn-0.23.2-py37h47e9c7a_0.json\n",
      "C:\\Users\\M151325\\anaconda37\\conda-meta\\scipy-1.5.2-py37h9439919_0.json\n",
      "C:\\Users\\M151325\\anaconda37\\conda-meta\\seaborn-0.11.0-py_0.json\n",
      "C:\\Users\\M151325\\anaconda37\\conda-meta\\setuptools-50.3.0-py37h9490d1a_1.json\n",
      "C:\\Users\\M151325\\anaconda37\\conda-meta\\singledispatch-3.4.0.3-py_1001.json\n",
      "C:\\Users\\M151325\\anaconda37\\conda-meta\\six-1.15.0-py_0.json\n",
      "C:\\Users\\M151325\\anaconda37\\conda-meta\\snappy-1.1.8-h33f27b4_0.json\n",
      "C:\\Users\\M151325\\anaconda37\\conda-meta\\sortedcollections-1.2.1-py_0.json\n",
      "C:\\Users\\M151325\\anaconda37\\conda-meta\\sortedcontainers-2.2.2-py_0.json\n",
      "C:\\Users\\M151325\\anaconda37\\conda-meta\\soupsieve-2.0.1-py_0.json\n",
      "C:\\Users\\M151325\\anaconda37\\conda-meta\\sphinx-3.2.1-py_0.json\n",
      "C:\\Users\\M151325\\anaconda37\\conda-meta\\sphinxcontrib-applehelp-1.0.2-py_0.json\n",
      "C:\\Users\\M151325\\anaconda37\\conda-meta\\sphinxcontrib-devhelp-1.0.2-py_0.json\n",
      "C:\\Users\\M151325\\anaconda37\\conda-meta\\sphinxcontrib-htmlhelp-1.0.3-py_0.json\n",
      "C:\\Users\\M151325\\anaconda37\\conda-meta\\sphinxcontrib-qthelp-1.0.3-py_0.json\n",
      "C:\\Users\\M151325\\anaconda37\\conda-meta\\sphinxcontrib-serializinghtml-1.1.4-py_0.json\n",
      "C:\\Users\\M151325\\anaconda37\\conda-meta\\sphinxcontrib-websupport-1.2.4-py_0.json\n",
      "C:\\Users\\M151325\\anaconda37\\conda-meta\\sqlalchemy-1.3.19-py37he774522_0.json\n",
      "C:\\Users\\M151325\\anaconda37\\conda-meta\\sqlite-3.33.0-h2a8f88b_0.json\n",
      "C:\\Users\\M151325\\anaconda37\\conda-meta\\statsmodels-0.12.0-py37he774522_0.json\n",
      "C:\\Users\\M151325\\anaconda37\\conda-meta\\sympy-1.6.2-py37_0.json\n",
      "C:\\Users\\M151325\\anaconda37\\conda-meta\\tbb-2020.3-h74a9793_0.json\n",
      "C:\\Users\\M151325\\anaconda37\\conda-meta\\tblib-1.7.0-py_0.json\n",
      "C:\\Users\\M151325\\anaconda37\\conda-meta\\terminado-0.9.1-py37_0.json\n",
      "C:\\Users\\M151325\\anaconda37\\conda-meta\\threadpoolctl-2.1.0-pyh5ca1d4c_0.json\n",
      "C:\\Users\\M151325\\anaconda37\\conda-meta\\tk-8.6.10-he774522_0.json\n",
      "C:\\Users\\M151325\\anaconda37\\conda-meta\\toml-0.10.1-py_0.json\n",
      "C:\\Users\\M151325\\anaconda37\\conda-meta\\toolz-0.11.1-py_0.json\n",
      "C:\\Users\\M151325\\anaconda37\\conda-meta\\tornado-6.0.4-py37he774522_1.json\n",
      "C:\\Users\\M151325\\anaconda37\\conda-meta\\tqdm-4.50.2-py_0.json\n",
      "C:\\Users\\M151325\\anaconda37\\conda-meta\\traitlets-5.0.4-py_0.json\n",
      "C:\\Users\\M151325\\anaconda37\\conda-meta\\typed-ast-1.4.1-py37he774522_0.json\n",
      "C:\\Users\\M151325\\anaconda37\\conda-meta\\typing_extensions-3.7.4.3-py_0.json\n",
      "C:\\Users\\M151325\\anaconda37\\conda-meta\\ujson-4.0.1-py37ha925a31_0.json\n",
      "C:\\Users\\M151325\\anaconda37\\conda-meta\\urllib3-1.25.10-py_0.json\n",
      "C:\\Users\\M151325\\anaconda37\\conda-meta\\vs2015_runtime-14.16.27012-hf0eaf9b_3.json\n",
      "C:\\Users\\M151325\\anaconda37\\conda-meta\\watchdog-0.10.3-py37_0.json\n",
      "C:\\Users\\M151325\\anaconda37\\conda-meta\\wcwidth-0.2.5-py_0.json\n",
      "C:\\Users\\M151325\\anaconda37\\conda-meta\\werkzeug-1.0.1-py_0.json\n",
      "C:\\Users\\M151325\\anaconda37\\conda-meta\\wheel-0.35.1-py_0.json\n",
      "C:\\Users\\M151325\\anaconda37\\conda-meta\\xlsxwriter-1.3.7-py_0.json\n",
      "C:\\Users\\M151325\\anaconda37\\conda-meta\\xlwings-0.20.7-py37_0.json\n",
      "C:\\Users\\M151325\\anaconda37\\conda-meta\\xz-5.2.5-h62dcd97_0.json\n",
      "C:\\Users\\M151325\\anaconda37\\conda-meta\\yaml-0.2.5-he774522_0.json\n",
      "C:\\Users\\M151325\\anaconda37\\conda-meta\\yapf-0.30.0-py_0.json\n",
      "C:\\Users\\M151325\\anaconda37\\conda-meta\\zeromq-4.3.2-ha925a31_3.json\n",
      "C:\\Users\\M151325\\anaconda37\\conda-meta\\zict-2.0.0-py_0.json\n",
      "C:\\Users\\M151325\\anaconda37\\conda-meta\\zipp-3.3.0-py_0.json\n",
      "C:\\Users\\M151325\\anaconda37\\conda-meta\\zlib-1.2.11-h62dcd97_4.json\n",
      "C:\\Users\\M151325\\anaconda37\\conda-meta\\zope-1.0-py37_1.json\n",
      "C:\\Users\\M151325\\anaconda37\\conda-meta\\zope.event-4.5.0-py37_0.json\n",
      "C:\\Users\\M151325\\anaconda37\\conda-meta\\zope.interface-5.1.2-py37he774522_0.json\n",
      "C:\\Users\\M151325\\anaconda37\\conda-meta\\zstd-1.4.5-h04227a9_0.json\n",
      "C:\\Users\\M151325\\anaconda37\\conda-meta\\_anaconda_depends-2020.07-py37_0.json\n",
      "C:\\Users\\M151325\\anaconda37\\DLLs\\pyexpat.pyd.c~.conda_trash\n",
      "C:\\Users\\M151325\\anaconda37\\DLLs\\select.pyd.c~.conda_trash\n",
      "C:\\Users\\M151325\\anaconda37\\DLLs\\unicodedata.pyd.c~.conda_trash\n",
      "C:\\Users\\M151325\\anaconda37\\DLLs\\_asyncio.pyd.c~.conda_trash\n",
      "C:\\Users\\M151325\\anaconda37\\DLLs\\_bz2.pyd.c~.conda_trash\n",
      "C:\\Users\\M151325\\anaconda37\\DLLs\\_ctypes.pyd.c~.conda_trash\n",
      "C:\\Users\\M151325\\anaconda37\\DLLs\\_decimal.pyd.c~.conda_trash\n",
      "C:\\Users\\M151325\\anaconda37\\DLLs\\_elementtree.pyd.c~.conda_trash\n",
      "C:\\Users\\M151325\\anaconda37\\DLLs\\_hashlib.pyd.c~.conda_trash\n",
      "C:\\Users\\M151325\\anaconda37\\DLLs\\_lzma.pyd.c~.conda_trash\n",
      "C:\\Users\\M151325\\anaconda37\\DLLs\\_overlapped.pyd.c~.conda_trash\n",
      "C:\\Users\\M151325\\anaconda37\\DLLs\\_queue.pyd.c~.conda_trash\n",
      "C:\\Users\\M151325\\anaconda37\\DLLs\\_socket.pyd.c~.conda_trash\n",
      "C:\\Users\\M151325\\anaconda37\\DLLs\\_sqlite3.pyd.c~.conda_trash\n",
      "C:\\Users\\M151325\\anaconda37\\DLLs\\_ssl.pyd.c~.conda_trash\n",
      "C:\\Users\\M151325\\anaconda37\\etc\\jupyter\\jupyter_nbconvert_config.json\n",
      "C:\\Users\\M151325\\anaconda37\\etc\\jupyter\\jupyter_notebook_config.d\\jupyterlab_git.json\n",
      "C:\\Users\\M151325\\anaconda37\\etc\\jupyter\\jupyter_notebook_config.d\\nbdime.json\n",
      "C:\\Users\\M151325\\anaconda37\\etc\\jupyter\\nbconfig\\tree.json\n",
      "C:\\Users\\M151325\\anaconda37\\etc\\jupyter\\nbconfig\\notebook.d\\nbdime.json\n",
      "C:\\Users\\M151325\\anaconda37\\include\\LIEF\\DWARF.hpp\n",
      "C:\\Users\\M151325\\anaconda37\\include\\LIEF\\Abstract\\Function.hpp\n",
      "C:\\Users\\M151325\\anaconda37\\include\\LIEF\\DWARF\\enums.hpp\n",
      "C:\\Users\\M151325\\anaconda37\\include\\LIEF\\ELF\\NoteDetails.hpp\n",
      "C:\\Users\\M151325\\anaconda37\\include\\LIEF\\ELF\\NoteDetails\\AndroidNote.hpp\n",
      "C:\\Users\\M151325\\anaconda37\\include\\LIEF\\ELF\\NoteDetails\\Core.hpp\n",
      "C:\\Users\\M151325\\anaconda37\\include\\LIEF\\ELF\\NoteDetails\\NoteAbi.hpp\n",
      "C:\\Users\\M151325\\anaconda37\\include\\LIEF\\ELF\\NoteDetails\\core\\CoreAuxv.hpp\n",
      "C:\\Users\\M151325\\anaconda37\\include\\LIEF\\ELF\\NoteDetails\\core\\CoreFile.hpp\n",
      "C:\\Users\\M151325\\anaconda37\\include\\LIEF\\ELF\\NoteDetails\\core\\CorePrPsInfo.hpp\n",
      "C:\\Users\\M151325\\anaconda37\\include\\LIEF\\ELF\\NoteDetails\\core\\CorePrStatus.hpp\n",
      "C:\\Users\\M151325\\anaconda37\\include\\LIEF\\ELF\\NoteDetails\\core\\CoreSigInfo.hpp\n",
      "C:\\Users\\M151325\\anaconda37\\include\\LIEF\\MachO\\BuildVersion.hpp\n",
      "C:\\Users\\M151325\\anaconda37\\include\\LIEF\\PE\\Pogo.hpp\n",
      "C:\\Users\\M151325\\anaconda37\\include\\LIEF\\PE\\PogoEntry.hpp\n",
      "C:\\Users\\M151325\\anaconda37\\Lib\\libLIEF.dll\n",
      "C:\\Users\\M151325\\anaconda37\\Lib\\libLIEF.lib\n",
      "C:\\Users\\M151325\\anaconda37\\Lib\\ensurepip\\_bundled\\pip-20.1.1-py2.py3-none-any.whl\n",
      "C:\\Users\\M151325\\anaconda37\\Lib\\ensurepip\\_bundled\\setuptools-47.1.0-py3-none-any.whl\n",
      "C:\\Users\\M151325\\anaconda37\\Lib\\idlelib\\Icons\\idle_256.png\n",
      "C:\\Users\\M151325\\anaconda37\\Lib\\idlelib\\Icons\\README.txt\n",
      "C:\\Users\\M151325\\anaconda37\\Lib\\lib2to3\\Grammar3.7.9.final.0.pickle\n",
      "C:\\Users\\M151325\\anaconda37\\Lib\\lib2to3\\PatternGrammar3.7.9.final.0.pickle\n",
      "C:\\Users\\M151325\\anaconda37\\Lib\\site-packages\\distutils-precedence.pth\n",
      "C:\\Users\\M151325\\anaconda37\\Lib\\site-packages\\gmpy2-2.0.8-py3.7.egg-info\n",
      "C:\\Users\\M151325\\anaconda37\\Lib\\site-packages\\gmpy2.cp37-win_amd64.pyd\n",
      "C:\\Users\\M151325\\anaconda37\\Lib\\site-packages\\iniconfig.py\n",
      "C:\\Users\\M151325\\anaconda37\\Lib\\site-packages\\lief.pyd\n",
      "C:\\Users\\M151325\\anaconda37\\Lib\\site-packages\\llvmlite-0.34.0-py3.7.egg-info\n",
      "C:\\Users\\M151325\\anaconda37\\Lib\\site-packages\\matplotlib-3.3.1-py3.7-nspkg.pth\n",
      "C:\\Users\\M151325\\anaconda37\\Lib\\site-packages\\nest_asyncio.py\n",
      "C:\\Users\\M151325\\anaconda37\\Lib\\site-packages\\pvectorc.cp37-win_amd64.pyd.c~.conda_trash\n",
      "C:\\Users\\M151325\\anaconda37\\Lib\\site-packages\\pycurl-7.43.0.6-py3.7.egg-info\n",
      "C:\\Users\\M151325\\anaconda37\\Lib\\site-packages\\PyYAML-5.3.1-py3.7.egg-info\n",
      "C:\\Users\\M151325\\anaconda37\\Lib\\site-packages\\sphinxcontrib_applehelp-1.0.2-py3.8-nspkg.pth\n",
      "C:\\Users\\M151325\\anaconda37\\Lib\\site-packages\\sphinxcontrib_devhelp-1.0.2-py3.8-nspkg.pth\n",
      "C:\\Users\\M151325\\anaconda37\\Lib\\site-packages\\sphinxcontrib_htmlhelp-1.0.3-py3.8-nspkg.pth\n",
      "C:\\Users\\M151325\\anaconda37\\Lib\\site-packages\\sphinxcontrib_qthelp-1.0.3-py3.8-nspkg.pth\n",
      "C:\\Users\\M151325\\anaconda37\\Lib\\site-packages\\sphinxcontrib_serializinghtml-1.1.4-py3.8-nspkg.pth\n",
      "C:\\Users\\M151325\\anaconda37\\Lib\\site-packages\\sphinxcontrib_websupport-1.2.4-py3.7-nspkg.pth\n",
      "C:\\Users\\M151325\\anaconda37\\Lib\\site-packages\\threadpoolctl.py\n",
      "C:\\Users\\M151325\\anaconda37\\Lib\\site-packages\\typing_extensions.py\n",
      "C:\\Users\\M151325\\anaconda37\\Lib\\site-packages\\zope.event-4.5.0-py3.7-nspkg.pth\n",
      "C:\\Users\\M151325\\anaconda37\\Lib\\site-packages\\zope.interface-5.1.2-py3.7-nspkg.pth\n",
      "C:\\Users\\M151325\\anaconda37\\Lib\\site-packages\\argon2\\exceptions.py\n",
      "C:\\Users\\M151325\\anaconda37\\Lib\\site-packages\\argon2\\low_level.py\n",
      "C:\\Users\\M151325\\anaconda37\\Lib\\site-packages\\argon2\\_ffi.cp37-win_amd64.pyd\n",
      "C:\\Users\\M151325\\anaconda37\\Lib\\site-packages\\argon2\\_ffi_build.py\n",
      "C:\\Users\\M151325\\anaconda37\\Lib\\site-packages\\argon2\\_legacy.py\n",
      "C:\\Users\\M151325\\anaconda37\\Lib\\site-packages\\argon2\\_password_hasher.py\n",
      "C:\\Users\\M151325\\anaconda37\\Lib\\site-packages\\argon2\\_utils.py\n",
      "C:\\Users\\M151325\\anaconda37\\Lib\\site-packages\\argon2\\__init__.py\n",
      "C:\\Users\\M151325\\anaconda37\\Lib\\site-packages\\argon2\\__main__.py\n",
      "C:\\Users\\M151325\\anaconda37\\Lib\\site-packages\\argon2\\__pycache__\\exceptions.cpython-37.pyc\n",
      "C:\\Users\\M151325\\anaconda37\\Lib\\site-packages\\argon2\\__pycache__\\low_level.cpython-37.pyc\n",
      "C:\\Users\\M151325\\anaconda37\\Lib\\site-packages\\argon2\\__pycache__\\_ffi_build.cpython-37.pyc\n",
      "C:\\Users\\M151325\\anaconda37\\Lib\\site-packages\\argon2\\__pycache__\\_legacy.cpython-37.pyc\n",
      "C:\\Users\\M151325\\anaconda37\\Lib\\site-packages\\argon2\\__pycache__\\_password_hasher.cpython-37.pyc"
     ]
    }
   ],
   "source": [
    "self.create_diff_file()"
   ]
  },
  {
   "cell_type": "markdown",
   "metadata": {},
   "source": [
    "## git\n",
    "コマンドでやる"
   ]
  },
  {
   "cell_type": "code",
   "execution_count": 4,
   "metadata": {
    "ExecuteTime": {
     "end_time": "2020-09-03T23:20:41.627569Z",
     "start_time": "2020-09-03T23:20:41.397711Z"
    }
   },
   "outputs": [],
   "source": [
    "! start ."
   ]
  },
  {
   "cell_type": "code",
   "execution_count": null,
   "metadata": {},
   "outputs": [],
   "source": [
    "git add .\n",
    "git commit -m \"first\"\n",
    "git push"
   ]
  },
  {
   "cell_type": "markdown",
   "metadata": {},
   "source": [
    "## 環境のコピー"
   ]
  },
  {
   "cell_type": "code",
   "execution_count": null,
   "metadata": {},
   "outputs": [],
   "source": [
    "import pandas as pd\n",
    "import os, hashlib\n",
    "import shutil"
   ]
  },
  {
   "cell_type": "markdown",
   "metadata": {},
   "source": [
    "taisho_pathにコピー元のフォルダを指定する"
   ]
  },
  {
   "cell_type": "code",
   "execution_count": null,
   "metadata": {},
   "outputs": [],
   "source": [
    "# taisho_path = r\"C:\\Users\\mineo\\Downloads\\env_conda3_win_v1.1\"\n",
    "# taisho_path = r\"C:\\Users\\mineo\\Downloads\\env_conda3_win_v2\"\n",
    "# taisho_path = r\"C:\\Users\\mineo\\Downloads\\env_conda3_win_v3.1\"\n",
    "# taisho_path = r\"C:\\Users\\mineo\\Downloads\\env_conda3_win_v4\"\n",
    "taisho_path = r\"F:\\E\\win_env_py38-master\\win_env_conda38-master\"\n",
    "csv_path = os.path.join(taisho_path,\"file_env_diff.csv\")\n",
    "csv_path\n",
    "home_path = os.path.join(taisho_path,\"diff_env\")\n",
    "home_path"
   ]
  },
  {
   "cell_type": "code",
   "execution_count": null,
   "metadata": {},
   "outputs": [],
   "source": [
    "c=pd.read_csv(csv_path, index_col=0)\n",
    "li=c[\"path\"].values.tolist()\n",
    "c.head()"
   ]
  },
  {
   "cell_type": "code",
   "execution_count": null,
   "metadata": {},
   "outputs": [],
   "source": [
    "os.environ['anaconda3']"
   ]
  },
  {
   "cell_type": "code",
   "execution_count": null,
   "metadata": {},
   "outputs": [],
   "source": [
    "for f_path_moto in li:\n",
    "    f_path_copy = f_path_moto.replace(r\"C:\\Users\\M151325\\Anaconda38\",os.environ['anaconda3'])\n",
    "    f_path_moto = f_path_moto.replace(r\"C:\\Users\\M151325\\Anaconda38\",home_path)\n",
    "    if not os.path.exists(os.path.dirname(f_path_copy)):\n",
    "        os.makedirs(os.path.dirname(f_path_copy))\n",
    "    try:\n",
    "        shutil.copyfile(f_path_moto,f_path_copy)\n",
    "    except:\n",
    "        if f_path_moto.find(\".pyc\") == -1\n",
    "            if f_path_moto.find(\".gitkeep\") == -1:\n",
    "                print(\"error\")\n",
    "                print(f_path_moto,f_path_copy)\n",
    "# print(f_path_copy,f_path_moto)"
   ]
  },
  {
   "cell_type": "code",
   "execution_count": null,
   "metadata": {},
   "outputs": [],
   "source": []
  },
  {
   "cell_type": "markdown",
   "metadata": {},
   "source": [
    "## factory"
   ]
  },
  {
   "cell_type": "code",
   "execution_count": null,
   "metadata": {
    "ExecuteTime": {
     "end_time": "2018-12-27T10:32:53.610245Z",
     "start_time": "2018-12-27T10:32:53.606247Z"
    }
   },
   "outputs": [],
   "source": [
    "import env_copy\n",
    "self=env_copy.env_copy_anaconda()"
   ]
  },
  {
   "cell_type": "code",
   "execution_count": null,
   "metadata": {
    "ExecuteTime": {
     "end_time": "2018-12-27T10:33:45.452860Z",
     "start_time": "2018-12-27T10:32:54.836929Z"
    }
   },
   "outputs": [],
   "source": [
    "df = self._get_list(\"diff_env\")"
   ]
  },
  {
   "cell_type": "code",
   "execution_count": null,
   "metadata": {
    "ExecuteTime": {
     "end_time": "2018-12-27T10:34:46.306352Z",
     "start_time": "2018-12-27T10:34:46.290363Z"
    }
   },
   "outputs": [],
   "source": [
    "df[df[\"MB\"]>30]"
   ]
  },
  {
   "cell_type": "code",
   "execution_count": null,
   "metadata": {},
   "outputs": [],
   "source": []
  }
 ],
 "metadata": {
  "kernelspec": {
   "display_name": "Python 3",
   "language": "python",
   "name": "python3"
  },
  "language_info": {
   "codemirror_mode": {
    "name": "ipython",
    "version": 3
   },
   "file_extension": ".py",
   "mimetype": "text/x-python",
   "name": "python",
   "nbconvert_exporter": "python",
   "pygments_lexer": "ipython3",
   "version": "3.7.9"
  },
  "nbTranslate": {
   "displayLangs": [
    "japanese",
    "en"
   ],
   "hotkey": "alt-t",
   "langInMainMenu": true,
   "sourceLang": "en",
   "targetLang": "japanese",
   "useGoogleTranslate": true
  },
  "toc": {
   "base_numbering": 1,
   "nav_menu": {},
   "number_sections": true,
   "sideBar": true,
   "skip_h1_title": false,
   "title_cell": "Table of Contents",
   "title_sidebar": "Contents",
   "toc_cell": false,
   "toc_position": {},
   "toc_section_display": true,
   "toc_window_display": false
  },
  "toc-autonumbering": true,
  "varInspector": {
   "cols": {
    "lenName": 16,
    "lenType": 16,
    "lenVar": 40
   },
   "kernels_config": {
    "python": {
     "delete_cmd_postfix": "",
     "delete_cmd_prefix": "del ",
     "library": "var_list.py",
     "varRefreshCmd": "print(var_dic_list())"
    },
    "r": {
     "delete_cmd_postfix": ") ",
     "delete_cmd_prefix": "rm(",
     "library": "var_list.r",
     "varRefreshCmd": "cat(var_dic_list()) "
    }
   },
   "types_to_exclude": [
    "module",
    "function",
    "builtin_function_or_method",
    "instance",
    "_Feature"
   ],
   "window_display": false
  }
 },
 "nbformat": 4,
 "nbformat_minor": 4
}
